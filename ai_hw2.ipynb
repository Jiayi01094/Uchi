{
 "nbformat": 4,
 "nbformat_minor": 0,
 "metadata": {
  "colab": {
   "provenance": []
  },
  "kernelspec": {
   "name": "python3",
   "display_name": "Python 3 (ipykernel)",
   "language": "python"
  },
  "language_info": {
   "name": "python"
  }
 },
 "cells": [
  {
   "cell_type": "code",
   "source": [
    "import numpy as np\n",
    "import matplotlib.pyplot as plt\n",
    "import pandas as pd"
   ],
   "metadata": {
    "id": "wu6rL2kRXrVi",
    "ExecuteTime": {
     "end_time": "2025-05-22T16:39:00.006304Z",
     "start_time": "2025-05-22T16:38:59.204133Z"
    }
   },
   "outputs": [
    {
     "ename": "ModuleNotFoundError",
     "evalue": "No module named 'numpy'",
     "output_type": "error",
     "traceback": [
      "\u001B[1;31m---------------------------------------------------------------------------\u001B[0m",
      "\u001B[1;31mModuleNotFoundError\u001B[0m                       Traceback (most recent call last)",
      "Cell \u001B[1;32mIn[1], line 1\u001B[0m\n\u001B[1;32m----> 1\u001B[0m \u001B[38;5;28;01mimport\u001B[39;00m\u001B[38;5;250m \u001B[39m\u001B[38;5;21;01mnumpy\u001B[39;00m\u001B[38;5;250m \u001B[39m\u001B[38;5;28;01mas\u001B[39;00m\u001B[38;5;250m \u001B[39m\u001B[38;5;21;01mnp\u001B[39;00m\n\u001B[0;32m      2\u001B[0m \u001B[38;5;28;01mimport\u001B[39;00m\u001B[38;5;250m \u001B[39m\u001B[38;5;21;01mmatplotlib\u001B[39;00m\u001B[38;5;21;01m.\u001B[39;00m\u001B[38;5;21;01mpyplot\u001B[39;00m\u001B[38;5;250m \u001B[39m\u001B[38;5;28;01mas\u001B[39;00m\u001B[38;5;250m \u001B[39m\u001B[38;5;21;01mplt\u001B[39;00m\n\u001B[0;32m      3\u001B[0m \u001B[38;5;28;01mimport\u001B[39;00m\u001B[38;5;250m \u001B[39m\u001B[38;5;21;01mpandas\u001B[39;00m\u001B[38;5;250m \u001B[39m\u001B[38;5;28;01mas\u001B[39;00m\u001B[38;5;250m \u001B[39m\u001B[38;5;21;01mpd\u001B[39;00m\n",
      "\u001B[1;31mModuleNotFoundError\u001B[0m: No module named 'numpy'"
     ]
    }
   ],
   "execution_count": 1
  },
  {
   "cell_type": "code",
   "execution_count": 29,
   "metadata": {
    "id": "--6qbe3ZXe2S"
   },
   "outputs": [],
   "source": [
    "tokens = [\"I\", \"love\", \"deep\", \"learning\"]"
   ]
  },
  {
   "cell_type": "code",
   "source": [
    "embedding_dim = 4\n",
    "np.random.seed(42)\n",
    "X = np.random.rand(len(tokens), embedding_dim)  # shape: (4, 4)"
   ],
   "metadata": {
    "id": "ud8WpD_xXmxb"
   },
   "execution_count": 30,
   "outputs": []
  },
  {
   "cell_type": "code",
   "source": [
    "W_q = np.random.rand(embedding_dim, embedding_dim)\n",
    "W_k = np.random.rand(embedding_dim, embedding_dim)\n",
    "W_v = np.random.rand(embedding_dim, embedding_dim)"
   ],
   "metadata": {
    "id": "h0KXGFweXuQt"
   },
   "execution_count": 31,
   "outputs": []
  },
  {
   "cell_type": "code",
   "source": [
    "Q = X @ W_q  # shape: (4, 4)\n",
    "K = X @ W_k\n",
    "V = X @ W_v"
   ],
   "metadata": {
    "id": "DiAjL2EVXwsw"
   },
   "execution_count": 32,
   "outputs": []
  },
  {
   "cell_type": "code",
   "source": [
    "d_k = embedding_dim\n",
    "scores = Q @ K.T / np.sqrt(d_k)"
   ],
   "metadata": {
    "id": "cfSjgm7ZX0nF"
   },
   "execution_count": 33,
   "outputs": []
  },
  {
   "cell_type": "code",
   "source": [
    "def softmax(x):\n",
    "    exps = np.exp(x - np.max(x, axis=-1, keepdims=True))\n",
    "    return exps / np.sum(exps, axis=-1, keepdims=True)\n"
   ],
   "metadata": {
    "id": "F6qiLzW7X3IN"
   },
   "execution_count": 34,
   "outputs": []
  },
  {
   "cell_type": "code",
   "source": [
    "weights = softmax(scores)\n",
    "output = weights @ V\n",
    "output"
   ],
   "metadata": {
    "colab": {
     "base_uri": "https://localhost:8080/"
    },
    "id": "fHBnXNUGX52y",
    "outputId": "03e0b224-9d7a-4c5d-cd58-899fe8ada82d"
   },
   "execution_count": 35,
   "outputs": [
    {
     "output_type": "execute_result",
     "data": {
      "text/plain": [
       "array([[1.1796727 , 0.9217873 , 1.45815851, 1.33770808],\n",
       "       [1.09435999, 0.83851284, 1.39301108, 1.243537  ],\n",
       "       [1.1515616 , 0.89314997, 1.43845963, 1.30643711],\n",
       "       [1.11065168, 0.85384713, 1.40560424, 1.26208253]])"
      ]
     },
     "metadata": {},
     "execution_count": 35
    }
   ]
  },
  {
   "cell_type": "code",
   "source": [
    "weights"
   ],
   "metadata": {
    "colab": {
     "base_uri": "https://localhost:8080/"
    },
    "id": "dU1jD8zwZN6L",
    "outputId": "b608e813-e716-4874-903a-089cf95bd729"
   },
   "execution_count": 36,
   "outputs": [
    {
     "output_type": "execute_result",
     "data": {
      "text/plain": [
       "array([[0.37375874, 0.11373439, 0.33710375, 0.17540311],\n",
       "       [0.30050337, 0.18229358, 0.29603114, 0.22117191],\n",
       "       [0.34464159, 0.13464245, 0.32827962, 0.19243634],\n",
       "       [0.31362022, 0.1663662 , 0.30402174, 0.21599184]])"
      ]
     },
     "metadata": {},
     "execution_count": 36
    }
   ]
  },
  {
   "cell_type": "markdown",
   "source": [
    "Change the input embeddings or weight matrices"
   ],
   "metadata": {
    "id": "XOMSCLn-YKXo"
   }
  },
  {
   "cell_type": "code",
   "source": [
    "X = np.random.rand(len(tokens), embedding_dim)\n"
   ],
   "metadata": {
    "id": "LAtAOTZNX_0P"
   },
   "execution_count": 37,
   "outputs": []
  },
  {
   "cell_type": "code",
   "source": [
    "Q = X @ W_q\n",
    "K = X @ W_k\n",
    "V = X @ W_v"
   ],
   "metadata": {
    "id": "HKNRj7f3YL9g"
   },
   "execution_count": 38,
   "outputs": []
  },
  {
   "cell_type": "code",
   "source": [
    "d_k = embedding_dim\n",
    "scores = Q @ K.T / np.sqrt(d_k)\n",
    "weights = softmax(scores)\n",
    "output = weights @ V\n",
    "output"
   ],
   "metadata": {
    "colab": {
     "base_uri": "https://localhost:8080/"
    },
    "id": "yxd3QuzmYYCf",
    "outputId": "a9e364e2-3926-4a38-ef18-1c7bbaa723f7"
   },
   "execution_count": 39,
   "outputs": [
    {
     "output_type": "execute_result",
     "data": {
      "text/plain": [
       "array([[0.96312871, 0.83955808, 1.04647951, 1.11597329],\n",
       "       [0.96597852, 0.84397694, 1.04777827, 1.11854938],\n",
       "       [0.96845362, 0.84730424, 1.04845223, 1.12040088],\n",
       "       [0.95361734, 0.82600822, 1.04555943, 1.1081502 ]])"
      ]
     },
     "metadata": {},
     "execution_count": 39
    }
   ]
  },
  {
   "cell_type": "markdown",
   "source": [
    "weights"
   ],
   "metadata": {
    "id": "YVMbgInMZcrW"
   }
  },
  {
   "cell_type": "code",
   "source": [
    "weights"
   ],
   "metadata": {
    "colab": {
     "base_uri": "https://localhost:8080/"
    },
    "id": "-zG348uxZglR",
    "outputId": "aac673bc-45c0-4a0b-e6e5-83eace80d564"
   },
   "execution_count": 40,
   "outputs": [
    {
     "output_type": "execute_result",
     "data": {
      "text/plain": [
       "array([[0.24848274, 0.25406103, 0.27830727, 0.21914895],\n",
       "       [0.24239569, 0.2492099 , 0.29302445, 0.21536995],\n",
       "       [0.24415681, 0.2517607 , 0.29365392, 0.21042857],\n",
       "       [0.24822995, 0.24266956, 0.27247446, 0.23662602]])"
      ]
     },
     "metadata": {},
     "execution_count": 40
    }
   ]
  },
  {
   "cell_type": "markdown",
   "source": [
    "\"deep\" is the most important token\n"
   ],
   "metadata": {
    "id": "ApgxeEGZZlm1"
   }
  },
  {
   "cell_type": "markdown",
   "source": [
    "changing embeddings changes how queries and keys interact"
   ],
   "metadata": {
    "id": "ilB9JmRSYsdg"
   }
  },
  {
   "cell_type": "markdown",
   "source": [],
   "metadata": {
    "id": "sCBlvTKAYzrN"
   }
  }
 ]
}
