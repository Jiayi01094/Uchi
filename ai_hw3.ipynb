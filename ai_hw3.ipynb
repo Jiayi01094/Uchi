{
  "nbformat": 4,
  "nbformat_minor": 0,
  "metadata": {
    "colab": {
      "provenance": []
    },
    "kernelspec": {
      "name": "python3",
      "display_name": "Python 3"
    },
    "language_info": {
      "name": "python"
    }
  },
  "cells": [
    {
      "cell_type": "code",
      "source": [
        "from pathlib import Path\n",
        "import fitz\n",
        "\n",
        "\n",
        "def load_pdf(file_path):\n",
        "    doc = fitz.open(file_path)\n",
        "    text = \"\"\n",
        "    for page in doc:\n",
        "        text += page.get_text()\n",
        "    return text\n",
        "\n",
        "pdf1_text = load_pdf(\"/2501.00881v1.pdf\")\n",
        "pdf2_text = load_pdf(\"/2501.18033v1.pdf\")\n",
        "all_text = pdf1_text + \"\\n\" + pdf2_text"
      ],
      "metadata": {
        "id": "pXtiqJshfomL"
      },
      "execution_count": null,
      "outputs": []
    },
    {
      "cell_type": "code",
      "source": [
        "import tiktoken\n",
        "\n",
        "def chunk_text(text, chunk_size=300, chunk_overlap=50):\n",
        "    tokenizer = tiktoken.get_encoding(\"cl100k_base\")\n",
        "    tokens = tokenizer.encode(text)\n",
        "\n",
        "    chunks = []\n",
        "    for i in range(0, len(tokens), chunk_size - chunk_overlap):\n",
        "        chunk = tokens[i:i + chunk_size]\n",
        "        chunk_text = tokenizer.decode(chunk)\n",
        "        chunks.append(chunk_text)\n",
        "    return chunks\n",
        "\n",
        "chunks = chunk_text(all_text)\n"
      ],
      "metadata": {
        "id": "x2cL8oC8gRf4"
      },
      "execution_count": null,
      "outputs": []
    },
    {
      "cell_type": "code",
      "execution_count": null,
      "metadata": {
        "collapsed": true,
        "id": "JlMolDqmfZvV"
      },
      "outputs": [],
      "source": [
        "from langchain.embeddings import HuggingFaceEmbeddings\n",
        "from langchain.vectorstores import Chroma\n",
        "\n",
        "embedding_model = HuggingFaceEmbeddings(model_name=\"all-MiniLM-L6-v2\")\n",
        "db = Chroma(persist_directory=\"db\", embedding_function=embedding_model)\n"
      ]
    },
    {
      "cell_type": "code",
      "source": [
        "from transformers import pipeline\n",
        "from langchain.llms import HuggingFacePipeline\n",
        "\n",
        "# Step 1: Create a Transformers pipeline\n",
        "flan_pipeline = pipeline(\"text2text-generation\", model=\"google/flan-t5-base\", tokenizer=\"google/flan-t5-base\")\n",
        "\n",
        "# Step 2: Wrap it with LangChain\n",
        "llm = HuggingFacePipeline(pipeline=flan_pipeline)\n"
      ],
      "metadata": {
        "colab": {
          "base_uri": "https://localhost:8080/"
        },
        "collapsed": true,
        "id": "YZ3DX3yef7jJ",
        "outputId": "f57c0e2f-b865-4ea6-8eb5-181160f9ea84"
      },
      "execution_count": null,
      "outputs": [
        {
          "output_type": "stream",
          "name": "stderr",
          "text": [
            "Device set to use cpu\n"
          ]
        }
      ]
    },
    {
      "cell_type": "code",
      "source": [
        "qa_chain = RetrievalQA.from_chain_type(llm=llm, retriever=db.as_retriever())"
      ],
      "metadata": {
        "id": "lBsnXSkDhoAg"
      },
      "execution_count": null,
      "outputs": []
    },
    {
      "cell_type": "code",
      "source": [
        "prompt_template = PromptTemplate(\n",
        "    input_variables=[\"context\", \"question\"],\n",
        "    template=\"\"\"\n",
        "You are a helpful AI assistant. Use the following context to answer the question.\n",
        "\n",
        "Context:\n",
        "{context}\n",
        "\n",
        "Question: {question}\n",
        "Answer:\"\"\"\n",
        ")\n",
        "\n"
      ],
      "metadata": {
        "id": "IuyWjmbTh80t"
      },
      "execution_count": null,
      "outputs": []
    },
    {
      "cell_type": "code",
      "source": [
        "def answer_question(query):\n",
        "    # Step 1: Retrieve top documents\n",
        "    docs = db.similarity_search(query, k=4)  # You can also use mmr for diversity\n",
        "\n",
        "    # Step 2: Combine docs into one context string\n",
        "    context = \"\\n\\n\".join([doc.page_content for doc in docs])\n",
        "\n",
        "    # Step 3: Pass to LLM\n",
        "    # The original line was:\n",
        "    # response = qa_chain.run({\"context\": context, \"question\": query})\n",
        "    # Instead, pass only the 'query' to qa_chain.run()\n",
        "    response = qa_chain.run(query)\n",
        "\n",
        "    return response"
      ],
      "metadata": {
        "id": "s-0k0Y9kj6w1"
      },
      "execution_count": null,
      "outputs": []
    },
    {
      "cell_type": "code",
      "source": [
        "print(answer_question(\"What are vertical AI agents?\"))\n"
      ],
      "metadata": {
        "colab": {
          "base_uri": "https://localhost:8080/"
        },
        "id": "KD2DZ3XCj9ld",
        "outputId": "77cb9fd4-0626-48c1-dc2c-2f557f34fa39"
      },
      "execution_count": null,
      "outputs": [
        {
          "output_type": "stream",
          "name": "stdout",
          "text": [
            "robots\n"
          ]
        }
      ]
    },
    {
      "cell_type": "code",
      "source": [
        "print(answer_question(\"What are the core architectural layers of a vertical AI agent system as described by Dr. Bousetouane?\"))\n"
      ],
      "metadata": {
        "colab": {
          "base_uri": "https://localhost:8080/"
        },
        "id": "TxCFZ2xIo_E6",
        "outputId": "fdaaaeb7-f83b-4171-a94b-25631e024a6b"
      },
      "execution_count": null,
      "outputs": [
        {
          "output_type": "stream",
          "name": "stdout",
          "text": [
            "a logical layer\n"
          ]
        }
      ]
    },
    {
      "cell_type": "code",
      "source": [
        "print(answer_question(\"Explain how agentic systems are designed to improve decision-making in enterprise workflows.\"))\n"
      ],
      "metadata": {
        "colab": {
          "base_uri": "https://localhost:8080/"
        },
        "id": "n2DxujGPpVay",
        "outputId": "d49341e0-30d3-4263-d9cc-b299c5c65c15"
      },
      "execution_count": null,
      "outputs": [
        {
          "output_type": "stream",
          "name": "stdout",
          "text": [
            "Agentic systems are designed to improve decision-making in enterprise workflows.\n"
          ]
        }
      ]
    },
    {
      "cell_type": "code",
      "source": [
        "print(answer_question(\"What are the main advantages of using diffusion models over GANs for image generation?\"))\n"
      ],
      "metadata": {
        "colab": {
          "base_uri": "https://localhost:8080/"
        },
        "id": "L7sclBQfpuAT",
        "outputId": "13f49acf-737f-489b-b59d-ef229b1b48ac"
      },
      "execution_count": null,
      "outputs": [
        {
          "output_type": "stream",
          "name": "stdout",
          "text": [
            "GANs are more efficient at generating images.\n"
          ]
        }
      ]
    },
    {
      "cell_type": "code",
      "source": [
        "print(answer_question(\"Describe a real-world use case of vision-language models mentioned in the paper by Dr. Bousetouane.\"))\n"
      ],
      "metadata": {
        "colab": {
          "base_uri": "https://localhost:8080/"
        },
        "id": "1DHoXxkCp02F",
        "outputId": "46116ba3-fc80-4230-9ec0-cb750c8b593a"
      },
      "execution_count": null,
      "outputs": [
        {
          "output_type": "stream",
          "name": "stdout",
          "text": [
            "A vision-language model is used to describe the visual system. The model is a computer program\n"
          ]
        }
      ]
    },
    {
      "cell_type": "code",
      "source": [
        "print(answer_question(\"How can vision-based generative models be integrated into agentic systems for task automation?\"))"
      ],
      "metadata": {
        "colab": {
          "base_uri": "https://localhost:8080/"
        },
        "id": "_V-9Ix8QqAWy",
        "outputId": "4690b969-6fa1-42b6-b95a-4c2bc4886f47"
      },
      "execution_count": null,
      "outputs": [
        {
          "output_type": "stream",
          "name": "stdout",
          "text": [
            "Vision-based generative models can be integrated into agentic systems for task automation by utilizing \n"
          ]
        }
      ]
    }
  ]
}