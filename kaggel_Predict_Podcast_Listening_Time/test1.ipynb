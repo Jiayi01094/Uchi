{
 "cells": [
  {
   "cell_type": "code",
   "id": "initial_id",
   "metadata": {
    "collapsed": true,
    "ExecuteTime": {
     "end_time": "2025-04-15T19:59:13.159470Z",
     "start_time": "2025-04-15T19:59:11.849589Z"
    }
   },
   "source": [
    "import pandas as pd\n",
    "import matplotlib.pyplot as plt\n",
    "df = pd.read_csv('train.csv')\n",
    "df.head()"
   ],
   "outputs": [
    {
     "data": {
      "text/plain": [
       "   id     Podcast_Name Episode_Title  Episode_Length_minutes       Genre  \\\n",
       "0   0  Mystery Matters    Episode 98                     NaN  True Crime   \n",
       "1   1    Joke Junction    Episode 26                  119.80      Comedy   \n",
       "2   2   Study Sessions    Episode 16                   73.90   Education   \n",
       "3   3   Digital Digest    Episode 45                   67.17  Technology   \n",
       "4   4      Mind & Body    Episode 86                  110.51      Health   \n",
       "\n",
       "   Host_Popularity_percentage Publication_Day Publication_Time  \\\n",
       "0                       74.81        Thursday            Night   \n",
       "1                       66.95        Saturday        Afternoon   \n",
       "2                       69.97         Tuesday          Evening   \n",
       "3                       57.22          Monday          Morning   \n",
       "4                       80.07          Monday        Afternoon   \n",
       "\n",
       "   Guest_Popularity_percentage  Number_of_Ads Episode_Sentiment  \\\n",
       "0                          NaN            0.0          Positive   \n",
       "1                        75.95            2.0          Negative   \n",
       "2                         8.97            0.0          Negative   \n",
       "3                        78.70            2.0          Positive   \n",
       "4                        58.68            3.0           Neutral   \n",
       "\n",
       "   Listening_Time_minutes  \n",
       "0                31.41998  \n",
       "1                88.01241  \n",
       "2                44.92531  \n",
       "3                46.27824  \n",
       "4                75.61031  "
      ],
      "text/html": [
       "<div>\n",
       "<style scoped>\n",
       "    .dataframe tbody tr th:only-of-type {\n",
       "        vertical-align: middle;\n",
       "    }\n",
       "\n",
       "    .dataframe tbody tr th {\n",
       "        vertical-align: top;\n",
       "    }\n",
       "\n",
       "    .dataframe thead th {\n",
       "        text-align: right;\n",
       "    }\n",
       "</style>\n",
       "<table border=\"1\" class=\"dataframe\">\n",
       "  <thead>\n",
       "    <tr style=\"text-align: right;\">\n",
       "      <th></th>\n",
       "      <th>id</th>\n",
       "      <th>Podcast_Name</th>\n",
       "      <th>Episode_Title</th>\n",
       "      <th>Episode_Length_minutes</th>\n",
       "      <th>Genre</th>\n",
       "      <th>Host_Popularity_percentage</th>\n",
       "      <th>Publication_Day</th>\n",
       "      <th>Publication_Time</th>\n",
       "      <th>Guest_Popularity_percentage</th>\n",
       "      <th>Number_of_Ads</th>\n",
       "      <th>Episode_Sentiment</th>\n",
       "      <th>Listening_Time_minutes</th>\n",
       "    </tr>\n",
       "  </thead>\n",
       "  <tbody>\n",
       "    <tr>\n",
       "      <th>0</th>\n",
       "      <td>0</td>\n",
       "      <td>Mystery Matters</td>\n",
       "      <td>Episode 98</td>\n",
       "      <td>NaN</td>\n",
       "      <td>True Crime</td>\n",
       "      <td>74.81</td>\n",
       "      <td>Thursday</td>\n",
       "      <td>Night</td>\n",
       "      <td>NaN</td>\n",
       "      <td>0.0</td>\n",
       "      <td>Positive</td>\n",
       "      <td>31.41998</td>\n",
       "    </tr>\n",
       "    <tr>\n",
       "      <th>1</th>\n",
       "      <td>1</td>\n",
       "      <td>Joke Junction</td>\n",
       "      <td>Episode 26</td>\n",
       "      <td>119.80</td>\n",
       "      <td>Comedy</td>\n",
       "      <td>66.95</td>\n",
       "      <td>Saturday</td>\n",
       "      <td>Afternoon</td>\n",
       "      <td>75.95</td>\n",
       "      <td>2.0</td>\n",
       "      <td>Negative</td>\n",
       "      <td>88.01241</td>\n",
       "    </tr>\n",
       "    <tr>\n",
       "      <th>2</th>\n",
       "      <td>2</td>\n",
       "      <td>Study Sessions</td>\n",
       "      <td>Episode 16</td>\n",
       "      <td>73.90</td>\n",
       "      <td>Education</td>\n",
       "      <td>69.97</td>\n",
       "      <td>Tuesday</td>\n",
       "      <td>Evening</td>\n",
       "      <td>8.97</td>\n",
       "      <td>0.0</td>\n",
       "      <td>Negative</td>\n",
       "      <td>44.92531</td>\n",
       "    </tr>\n",
       "    <tr>\n",
       "      <th>3</th>\n",
       "      <td>3</td>\n",
       "      <td>Digital Digest</td>\n",
       "      <td>Episode 45</td>\n",
       "      <td>67.17</td>\n",
       "      <td>Technology</td>\n",
       "      <td>57.22</td>\n",
       "      <td>Monday</td>\n",
       "      <td>Morning</td>\n",
       "      <td>78.70</td>\n",
       "      <td>2.0</td>\n",
       "      <td>Positive</td>\n",
       "      <td>46.27824</td>\n",
       "    </tr>\n",
       "    <tr>\n",
       "      <th>4</th>\n",
       "      <td>4</td>\n",
       "      <td>Mind &amp; Body</td>\n",
       "      <td>Episode 86</td>\n",
       "      <td>110.51</td>\n",
       "      <td>Health</td>\n",
       "      <td>80.07</td>\n",
       "      <td>Monday</td>\n",
       "      <td>Afternoon</td>\n",
       "      <td>58.68</td>\n",
       "      <td>3.0</td>\n",
       "      <td>Neutral</td>\n",
       "      <td>75.61031</td>\n",
       "    </tr>\n",
       "  </tbody>\n",
       "</table>\n",
       "</div>"
      ]
     },
     "execution_count": 1,
     "metadata": {},
     "output_type": "execute_result"
    }
   ],
   "execution_count": 1
  },
  {
   "metadata": {
    "ExecuteTime": {
     "end_time": "2025-04-15T19:59:15.076732Z",
     "start_time": "2025-04-15T19:59:14.970321Z"
    }
   },
   "cell_type": "code",
   "source": "df.isnull().sum()",
   "id": "235b6c473dd2bf0f",
   "outputs": [
    {
     "data": {
      "text/plain": [
       "id                                  0\n",
       "Podcast_Name                        0\n",
       "Episode_Title                       0\n",
       "Episode_Length_minutes          87093\n",
       "Genre                               0\n",
       "Host_Popularity_percentage          0\n",
       "Publication_Day                     0\n",
       "Publication_Time                    0\n",
       "Guest_Popularity_percentage    146030\n",
       "Number_of_Ads                       1\n",
       "Episode_Sentiment                   0\n",
       "Listening_Time_minutes              0\n",
       "dtype: int64"
      ]
     },
     "execution_count": 2,
     "metadata": {},
     "output_type": "execute_result"
    }
   ],
   "execution_count": 2
  },
  {
   "metadata": {
    "ExecuteTime": {
     "end_time": "2025-04-15T19:59:53.452342Z",
     "start_time": "2025-04-15T19:59:53.328582Z"
    }
   },
   "cell_type": "code",
   "source": [
    "df = df[df['Episode_Length_minutes'].notnull()]\n",
    "(df.isnull().sum() / len(df) * 100).sort_values(ascending=False)"
   ],
   "id": "be79e0d8249467cf",
   "outputs": [
    {
     "data": {
      "text/plain": [
       "Guest_Popularity_percentage    18.684069\n",
       "Number_of_Ads                   0.000151\n",
       "id                              0.000000\n",
       "Podcast_Name                    0.000000\n",
       "Episode_Length_minutes          0.000000\n",
       "Episode_Title                   0.000000\n",
       "Genre                           0.000000\n",
       "Host_Popularity_percentage      0.000000\n",
       "Publication_Time                0.000000\n",
       "Publication_Day                 0.000000\n",
       "Episode_Sentiment               0.000000\n",
       "Listening_Time_minutes          0.000000\n",
       "dtype: float64"
      ]
     },
     "execution_count": 3,
     "metadata": {},
     "output_type": "execute_result"
    }
   ],
   "execution_count": 3
  },
  {
   "metadata": {
    "ExecuteTime": {
     "end_time": "2025-04-15T19:59:54.930008Z",
     "start_time": "2025-04-15T19:59:54.618250Z"
    }
   },
   "cell_type": "code",
   "source": [
    "df['Podcast_Episode'] = df['Podcast_Name'] + ' - ' + df['Episode_Title']\n",
    "df['Podcast_Episode'].unique()\n",
    "df = df.drop('id', axis=1)\n",
    "\n",
    "df_test = df.drop('Guest_Popularity_percentage', axis=1)\n",
    "df_test = df_test.drop(['Podcast_Name', 'Episode_Title'], axis=1)"
   ],
   "id": "15ddb0b8257aab57",
   "outputs": [
    {
     "name": "stdout",
     "output_type": "stream",
     "text": [
      "<class 'pandas.core.frame.DataFrame'>\n",
      "Index: 662907 entries, 1 to 749999\n",
      "Data columns (total 9 columns):\n",
      " #   Column                      Non-Null Count   Dtype  \n",
      "---  ------                      --------------   -----  \n",
      " 0   Episode_Length_minutes      662907 non-null  float64\n",
      " 1   Genre                       662907 non-null  object \n",
      " 2   Host_Popularity_percentage  662907 non-null  float64\n",
      " 3   Publication_Day             662907 non-null  object \n",
      " 4   Publication_Time            662907 non-null  object \n",
      " 5   Number_of_Ads               662906 non-null  float64\n",
      " 6   Episode_Sentiment           662907 non-null  object \n",
      " 7   Listening_Time_minutes      662907 non-null  float64\n",
      " 8   Podcast_Episode             662907 non-null  object \n",
      "dtypes: float64(4), object(5)\n",
      "memory usage: 50.6+ MB\n"
     ]
    }
   ],
   "execution_count": 4
  },
  {
   "metadata": {},
   "cell_type": "markdown",
   "source": "split",
   "id": "54c80ed626eeaa32"
  },
  {
   "metadata": {
    "ExecuteTime": {
     "end_time": "2025-04-15T19:28:18.141334Z",
     "start_time": "2025-04-15T19:28:18.106112Z"
    }
   },
   "cell_type": "code",
   "source": [
    "y = df_test['Listening_Time_minutes']\n",
    "X = df_test.drop('Listening_Time_minutes', axis=1)"
   ],
   "id": "fecd07a05216beeb",
   "outputs": [],
   "execution_count": 142
  },
  {
   "metadata": {
    "ExecuteTime": {
     "end_time": "2025-04-15T19:28:18.241379Z",
     "start_time": "2025-04-15T19:28:18.144338Z"
    }
   },
   "cell_type": "code",
   "source": [
    "from sklearn.model_selection import train_test_split\n",
    "X_train, X_test, y_train, y_test = train_test_split(X, y, test_size=0.2, random_state=42)"
   ],
   "id": "ba5bda4a7bc19f12",
   "outputs": [],
   "execution_count": 143
  },
  {
   "metadata": {
    "ExecuteTime": {
     "end_time": "2025-04-15T19:28:18.557969Z",
     "start_time": "2025-04-15T19:28:18.261803Z"
    }
   },
   "cell_type": "code",
   "source": [
    "categorical_cols = [\n",
    "    'Podcast_Episode', 'Publication_Time', 'Genre',\n",
    "    'Publication_Day', 'Episode_Sentiment'\n",
    "]\n",
    "\n",
    "for col in categorical_cols:\n",
    "    X_train[col] = X_train[col].astype('category')\n",
    "    X_test[col] = X_test[col].astype('category')\n"
   ],
   "id": "9522fdccf8552f34",
   "outputs": [],
   "execution_count": 144
  },
  {
   "metadata": {
    "ExecuteTime": {
     "end_time": "2025-04-15T19:28:18.600970Z",
     "start_time": "2025-04-15T19:28:18.582184Z"
    }
   },
   "cell_type": "code",
   "source": [
    "X_train['Number_of_Ads'] = X_train['Number_of_Ads'].fillna(X_train['Number_of_Ads'].median())\n",
    "X_test['Number_of_Ads'] = X_test['Number_of_Ads'].fillna(X_test['Number_of_Ads'].median())"
   ],
   "id": "eb45eff7dd1062ad",
   "outputs": [],
   "execution_count": 145
  },
  {
   "metadata": {
    "ExecuteTime": {
     "end_time": "2025-04-15T19:28:18.641481Z",
     "start_time": "2025-04-15T19:28:18.627014Z"
    }
   },
   "cell_type": "code",
   "source": "X_train.info()",
   "id": "dda79fce9a9c6400",
   "outputs": [
    {
     "name": "stdout",
     "output_type": "stream",
     "text": [
      "<class 'pandas.core.frame.DataFrame'>\n",
      "Index: 530325 entries, 25691 to 137953\n",
      "Data columns (total 8 columns):\n",
      " #   Column                      Non-Null Count   Dtype   \n",
      "---  ------                      --------------   -----   \n",
      " 0   Episode_Length_minutes      530325 non-null  float64 \n",
      " 1   Genre                       530325 non-null  category\n",
      " 2   Host_Popularity_percentage  530325 non-null  float64 \n",
      " 3   Publication_Day             530325 non-null  category\n",
      " 4   Publication_Time            530325 non-null  category\n",
      " 5   Number_of_Ads               530325 non-null  float64 \n",
      " 6   Episode_Sentiment           530325 non-null  category\n",
      " 7   Podcast_Episode             530325 non-null  category\n",
      "dtypes: category(5), float64(3)\n",
      "memory usage: 19.4 MB\n"
     ]
    }
   ],
   "execution_count": 146
  },
  {
   "metadata": {
    "jupyter": {
     "is_executing": true
    },
    "ExecuteTime": {
     "start_time": "2025-04-15T19:28:18.665045Z"
    }
   },
   "cell_type": "code",
   "source": [
    "from lightgbm import LGBMRegressor\n",
    "from sklearn.model_selection import GridSearchCV\n",
    "from sklearn.metrics import make_scorer, mean_squared_error\n",
    "import numpy as np\n",
    "\n",
    "# Define RMSE scorer\n",
    "rmse_scorer = make_scorer(\n",
    "    lambda y_true, y_pred: np.sqrt(mean_squared_error(y_true, y_pred)),\n",
    "    greater_is_better=False\n",
    ")\n",
    "\n",
    "# Define model\n",
    "model = LGBMRegressor(random_state=42)\n",
    "\n",
    "# Hyperparameter grid\n",
    "param_grid = {\n",
    "    'n_estimators': [100, 200],\n",
    "    'max_depth': [3, 5, 7],\n",
    "    'learning_rate': [0.01, 0.1],\n",
    "    'num_leaves': [20, 31, 40]\n",
    "}\n",
    "\n",
    "# Grid search\n",
    "grid = GridSearchCV(\n",
    "    estimator=model,\n",
    "    param_grid=param_grid,\n",
    "    scoring=rmse_scorer,\n",
    "    cv=3,\n",
    "    verbose=1,\n",
    "    n_jobs=-1\n",
    ")\n",
    "\n",
    "grid.fit(X_train, y_train)"
   ],
   "id": "cf97079b5dde5486",
   "outputs": [
    {
     "name": "stdout",
     "output_type": "stream",
     "text": [
      "Fitting 3 folds for each of 36 candidates, totalling 108 fits\n"
     ]
    }
   ],
   "execution_count": null
  },
  {
   "metadata": {
    "ExecuteTime": {
     "end_time": "2025-04-15T18:28:36.168914Z",
     "start_time": "2025-04-15T18:28:36.165062Z"
    }
   },
   "cell_type": "code",
   "source": [
    "print(\"rmse_scorer:\", -grid.best_score_)  # convert back to positive RMSE\n",
    "print(\"Best Parameters:\", grid.best_params_)"
   ],
   "id": "537be524ed5f6615",
   "outputs": [
    {
     "name": "stdout",
     "output_type": "stream",
     "text": [
      "rmse_scorer: 10.468236600466556\n",
      "Best Parameters: {'learning_rate': 0.1, 'max_depth': 5, 'n_estimators': 100, 'num_leaves': 40}\n"
     ]
    }
   ],
   "execution_count": 137
  },
  {
   "metadata": {
    "ExecuteTime": {
     "end_time": "2025-04-15T18:07:33.011731Z",
     "start_time": "2025-04-15T18:07:33.008809Z"
    }
   },
   "cell_type": "code",
   "source": "",
   "id": "835c2e10e26013d8",
   "outputs": [],
   "execution_count": null
  },
  {
   "metadata": {
    "ExecuteTime": {
     "end_time": "2025-04-15T18:12:51.865817Z",
     "start_time": "2025-04-15T18:12:49.561476Z"
    }
   },
   "cell_type": "code",
   "source": [
    "from lightgbm import LGBMRegressor\n",
    "\n",
    "model = LGBMRegressor()\n",
    "model.fit(X_train, y_train)\n",
    "\n",
    "y_pred = model.predict(X_test)\n"
   ],
   "id": "e102ec3929f0b882",
   "outputs": [
    {
     "name": "stdout",
     "output_type": "stream",
     "text": [
      "[LightGBM] [Warning] Categorical features with more bins than the configured maximum bin number found.\n",
      "[LightGBM] [Warning] For categorical features, max_bin and max_bin_by_feature may be ignored with a large number of categories.\n",
      "[LightGBM] [Info] Auto-choosing row-wise multi-threading, the overhead of testing was 0.004779 seconds.\n",
      "You can set `force_row_wise=true` to remove the overhead.\n",
      "And if memory is not enough, you can set `force_col_wise=true`.\n",
      "[LightGBM] [Info] Total Bins 5223\n",
      "[LightGBM] [Info] Number of data points in the train set: 530325, number of used features: 8\n",
      "[LightGBM] [Info] Start training from score 45.751311\n"
     ]
    }
   ],
   "execution_count": 123
  }
 ],
 "metadata": {
  "kernelspec": {
   "display_name": "Python 3",
   "language": "python",
   "name": "python3"
  },
  "language_info": {
   "codemirror_mode": {
    "name": "ipython",
    "version": 2
   },
   "file_extension": ".py",
   "mimetype": "text/x-python",
   "name": "python",
   "nbconvert_exporter": "python",
   "pygments_lexer": "ipython2",
   "version": "2.7.6"
  }
 },
 "nbformat": 4,
 "nbformat_minor": 5
}
